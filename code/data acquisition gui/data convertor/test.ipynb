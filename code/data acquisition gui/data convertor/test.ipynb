{
 "cells": [
  {
   "cell_type": "code",
   "execution_count": 1,
   "metadata": {},
   "outputs": [],
   "source": [
    "import matplotlib\n",
    "import pathlib\n",
    "import mne\n",
    "\n",
    "matplotlib.use('Qt5Agg')"
   ]
  },
  {
   "cell_type": "code",
   "execution_count": 2,
   "metadata": {},
   "outputs": [
    {
     "name": "stdout",
     "output_type": "stream",
     "text": [
      "Extracting EDF parameters from C:\\Users\\Acer\\PycharmProjects\\e16-4yp-Enhancing-Video-Game-Experience-With-Brain-Computer-Interface\\code\\data acquisition gui\\data\\bdf\\test.edf...\n",
      "EDF file detected\n",
      "Setting channel info structure...\n",
      "Could not determine channel type of the following channels, they will be set as EEG:\n",
      "C3, C4, P3, P4, O1, O2, T3, T4\n",
      "Creating raw.info structure...\n",
      "Reading 0 ... 60249  =      0.000 ...   240.996 secs...\n"
     ]
    },
    {
     "name": "stderr",
     "output_type": "stream",
     "text": [
      "C:\\Users\\Acer\\AppData\\Local\\Temp\\ipykernel_1672\\3042106384.py:1: RuntimeWarning: Omitted 5 annotation(s) that were outside data range.\n",
      "  raw = mne.io.read_raw_edf('../data/bdf/test.edf', preload=True)\n"
     ]
    }
   ],
   "source": [
    "raw = mne.io.read_raw_edf('../data/bdf/test.edf', preload=True)"
   ]
  },
  {
   "cell_type": "code",
   "execution_count": 3,
   "metadata": {
    "collapsed": false,
    "pycharm": {
     "name": "#%%\n"
    }
   },
   "outputs": [
    {
     "name": "stdout",
     "output_type": "stream",
     "text": [
      "Using matplotlib as 2D backend.\n"
     ]
    },
    {
     "data": {
      "text/plain": "<MNEBrowseFigure size 1918x1009 with 4 Axes>"
     },
     "execution_count": 3,
     "metadata": {},
     "output_type": "execute_result"
    }
   ],
   "source": [
    "raw.plot()\n"
   ]
  }
 ],
 "metadata": {
  "kernelspec": {
   "name": "e16-4yp-enhancing-video-game-experience-with-brain-computer-interface",
   "language": "python",
   "display_name": "e16-4yp-Enhancing-Video-Game-Experience-With-Brain-Computer-Interface"
  },
  "language_info": {
   "codemirror_mode": {
    "name": "ipython",
    "version": 3
   },
   "file_extension": ".py",
   "mimetype": "text/x-python",
   "name": "python",
   "nbconvert_exporter": "python",
   "pygments_lexer": "ipython3",
   "version": "3.9.12"
  },
  "orig_nbformat": 4,
  "vscode": {
   "interpreter": {
    "hash": "d03f13ddb97eea5791d240fab36bf3c811ff7a2c281a71007769d55b158b38bd"
   }
  }
 },
 "nbformat": 4,
 "nbformat_minor": 2
}