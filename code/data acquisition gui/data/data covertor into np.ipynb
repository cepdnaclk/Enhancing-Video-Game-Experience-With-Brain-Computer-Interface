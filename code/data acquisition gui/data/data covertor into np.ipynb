{
 "cells": [
  {
   "cell_type": "code",
   "execution_count": 155,
   "metadata": {},
   "outputs": [],
   "source": [
    "import pandas as pd"
   ]
  },
  {
   "cell_type": "code",
   "execution_count": 156,
   "metadata": {},
   "outputs": [
    {
     "data": {
      "text/html": [
       "<div>\n",
       "<style scoped>\n",
       "    .dataframe tbody tr th:only-of-type {\n",
       "        vertical-align: middle;\n",
       "    }\n",
       "\n",
       "    .dataframe tbody tr th {\n",
       "        vertical-align: top;\n",
       "    }\n",
       "\n",
       "    .dataframe thead th {\n",
       "        text-align: right;\n",
       "    }\n",
       "</style>\n",
       "<table border=\"1\" class=\"dataframe\">\n",
       "  <thead>\n",
       "    <tr style=\"text-align: right;\">\n",
       "      <th></th>\n",
       "      <th>status</th>\n",
       "      <th>ch0</th>\n",
       "      <th>ch1</th>\n",
       "      <th>ch2</th>\n",
       "      <th>ch3</th>\n",
       "      <th>ch4</th>\n",
       "      <th>ch5</th>\n",
       "      <th>ch6</th>\n",
       "      <th>ch7</th>\n",
       "    </tr>\n",
       "  </thead>\n",
       "  <tbody>\n",
       "    <tr>\n",
       "      <th>0</th>\n",
       "      <td>0</td>\n",
       "      <td>-4706841</td>\n",
       "      <td>-4684054</td>\n",
       "      <td>-4986550</td>\n",
       "      <td>-4625892</td>\n",
       "      <td>-4642679</td>\n",
       "      <td>-4412596</td>\n",
       "      <td>-4411930</td>\n",
       "      <td>-1034406</td>\n",
       "    </tr>\n",
       "    <tr>\n",
       "      <th>1</th>\n",
       "      <td>0</td>\n",
       "      <td>-4711751</td>\n",
       "      <td>-4685896</td>\n",
       "      <td>-4988769</td>\n",
       "      <td>-4630785</td>\n",
       "      <td>-4644584</td>\n",
       "      <td>-4414128</td>\n",
       "      <td>-4413534</td>\n",
       "      <td>-1023558</td>\n",
       "    </tr>\n",
       "    <tr>\n",
       "      <th>2</th>\n",
       "      <td>0</td>\n",
       "      <td>-4688819</td>\n",
       "      <td>-4660609</td>\n",
       "      <td>-4980411</td>\n",
       "      <td>-4616077</td>\n",
       "      <td>-4647438</td>\n",
       "      <td>-4415817</td>\n",
       "      <td>-4419768</td>\n",
       "      <td>-1012143</td>\n",
       "    </tr>\n",
       "    <tr>\n",
       "      <th>3</th>\n",
       "      <td>0</td>\n",
       "      <td>-4670151</td>\n",
       "      <td>-4643576</td>\n",
       "      <td>-4973171</td>\n",
       "      <td>-4602213</td>\n",
       "      <td>-4647135</td>\n",
       "      <td>-4415232</td>\n",
       "      <td>-4421739</td>\n",
       "      <td>-1016222</td>\n",
       "    </tr>\n",
       "    <tr>\n",
       "      <th>4</th>\n",
       "      <td>0</td>\n",
       "      <td>-4681622</td>\n",
       "      <td>-4658329</td>\n",
       "      <td>-4977268</td>\n",
       "      <td>-4608667</td>\n",
       "      <td>-4644397</td>\n",
       "      <td>-4413576</td>\n",
       "      <td>-4417086</td>\n",
       "      <td>-1032337</td>\n",
       "    </tr>\n",
       "  </tbody>\n",
       "</table>\n",
       "</div>"
      ],
      "text/plain": [
       "   status      ch0      ch1      ch2      ch3      ch4      ch5      ch6  \\\n",
       "0       0 -4706841 -4684054 -4986550 -4625892 -4642679 -4412596 -4411930   \n",
       "1       0 -4711751 -4685896 -4988769 -4630785 -4644584 -4414128 -4413534   \n",
       "2       0 -4688819 -4660609 -4980411 -4616077 -4647438 -4415817 -4419768   \n",
       "3       0 -4670151 -4643576 -4973171 -4602213 -4647135 -4415232 -4421739   \n",
       "4       0 -4681622 -4658329 -4977268 -4608667 -4644397 -4413576 -4417086   \n",
       "\n",
       "      ch7   \n",
       "0 -1034406  \n",
       "1 -1023558  \n",
       "2 -1012143  \n",
       "3 -1016222  \n",
       "4 -1032337  "
      ]
     },
     "execution_count": 156,
     "metadata": {},
     "output_type": "execute_result"
    }
   ],
   "source": [
    "df = pd.read_csv(\"31_12_2022 18_54_43.csv\")\n",
    "df.head()\n",
    "\n"
   ]
  },
  {
   "cell_type": "code",
   "execution_count": 157,
   "metadata": {},
   "outputs": [
    {
     "data": {
      "text/plain": [
       "Index(['status', ' ch0', ' ch1', ' ch2', ' ch3', ' ch4', ' ch5', ' ch6',\n",
       "       ' ch7 '],\n",
       "      dtype='object')"
      ]
     },
     "execution_count": 157,
     "metadata": {},
     "output_type": "execute_result"
    }
   ],
   "source": [
    "#df.columns = ['status', 'ch0', 'ch1', 'ch2', 'ch3',\n",
    "#       'ch4', 'ch5', 'ch6', 'ch7','mm']\n",
    "df.keys()"
   ]
  },
  {
   "cell_type": "code",
   "execution_count": 158,
   "metadata": {},
   "outputs": [
    {
     "data": {
      "text/html": [
       "<div>\n",
       "<style scoped>\n",
       "    .dataframe tbody tr th:only-of-type {\n",
       "        vertical-align: middle;\n",
       "    }\n",
       "\n",
       "    .dataframe tbody tr th {\n",
       "        vertical-align: top;\n",
       "    }\n",
       "\n",
       "    .dataframe thead th {\n",
       "        text-align: right;\n",
       "    }\n",
       "</style>\n",
       "<table border=\"1\" class=\"dataframe\">\n",
       "  <thead>\n",
       "    <tr style=\"text-align: right;\">\n",
       "      <th></th>\n",
       "      <th>status</th>\n",
       "      <th>ch0</th>\n",
       "      <th>ch1</th>\n",
       "      <th>ch2</th>\n",
       "      <th>ch3</th>\n",
       "      <th>ch4</th>\n",
       "      <th>ch5</th>\n",
       "      <th>ch6</th>\n",
       "      <th>ch7</th>\n",
       "    </tr>\n",
       "  </thead>\n",
       "  <tbody>\n",
       "    <tr>\n",
       "      <th>0</th>\n",
       "      <td>0</td>\n",
       "      <td>-4706841</td>\n",
       "      <td>-4684054</td>\n",
       "      <td>-4986550</td>\n",
       "      <td>-4625892</td>\n",
       "      <td>-4642679</td>\n",
       "      <td>-4412596</td>\n",
       "      <td>-4411930</td>\n",
       "      <td>-1034406</td>\n",
       "    </tr>\n",
       "    <tr>\n",
       "      <th>1</th>\n",
       "      <td>0</td>\n",
       "      <td>-4711751</td>\n",
       "      <td>-4685896</td>\n",
       "      <td>-4988769</td>\n",
       "      <td>-4630785</td>\n",
       "      <td>-4644584</td>\n",
       "      <td>-4414128</td>\n",
       "      <td>-4413534</td>\n",
       "      <td>-1023558</td>\n",
       "    </tr>\n",
       "    <tr>\n",
       "      <th>2</th>\n",
       "      <td>0</td>\n",
       "      <td>-4688819</td>\n",
       "      <td>-4660609</td>\n",
       "      <td>-4980411</td>\n",
       "      <td>-4616077</td>\n",
       "      <td>-4647438</td>\n",
       "      <td>-4415817</td>\n",
       "      <td>-4419768</td>\n",
       "      <td>-1012143</td>\n",
       "    </tr>\n",
       "    <tr>\n",
       "      <th>3</th>\n",
       "      <td>0</td>\n",
       "      <td>-4670151</td>\n",
       "      <td>-4643576</td>\n",
       "      <td>-4973171</td>\n",
       "      <td>-4602213</td>\n",
       "      <td>-4647135</td>\n",
       "      <td>-4415232</td>\n",
       "      <td>-4421739</td>\n",
       "      <td>-1016222</td>\n",
       "    </tr>\n",
       "    <tr>\n",
       "      <th>4</th>\n",
       "      <td>0</td>\n",
       "      <td>-4681622</td>\n",
       "      <td>-4658329</td>\n",
       "      <td>-4977268</td>\n",
       "      <td>-4608667</td>\n",
       "      <td>-4644397</td>\n",
       "      <td>-4413576</td>\n",
       "      <td>-4417086</td>\n",
       "      <td>-1032337</td>\n",
       "    </tr>\n",
       "  </tbody>\n",
       "</table>\n",
       "</div>"
      ],
      "text/plain": [
       "   status      ch0      ch1      ch2      ch3      ch4      ch5      ch6  \\\n",
       "0       0 -4706841 -4684054 -4986550 -4625892 -4642679 -4412596 -4411930   \n",
       "1       0 -4711751 -4685896 -4988769 -4630785 -4644584 -4414128 -4413534   \n",
       "2       0 -4688819 -4660609 -4980411 -4616077 -4647438 -4415817 -4419768   \n",
       "3       0 -4670151 -4643576 -4973171 -4602213 -4647135 -4415232 -4421739   \n",
       "4       0 -4681622 -4658329 -4977268 -4608667 -4644397 -4413576 -4417086   \n",
       "\n",
       "      ch7   \n",
       "0 -1034406  \n",
       "1 -1023558  \n",
       "2 -1012143  \n",
       "3 -1016222  \n",
       "4 -1032337  "
      ]
     },
     "execution_count": 158,
     "metadata": {},
     "output_type": "execute_result"
    }
   ],
   "source": [
    "df.head()"
   ]
  },
  {
   "cell_type": "code",
   "execution_count": 159,
   "metadata": {},
   "outputs": [],
   "source": [
    "#tem = df['ch1'].str.split('[', n= 1 , expand= True)\n",
    "#df['ch1'] = tem[1]\n",
    "\n",
    "#tem2 = df['ch8'].str.split(']', n=1 ,expand= True)\n",
    "#df['ch8'] =  tem2[0]\n"
   ]
  },
  {
   "cell_type": "code",
   "execution_count": 160,
   "metadata": {},
   "outputs": [
    {
     "data": {
      "text/plain": [
       "Index(['status', ' ch0', ' ch1', ' ch2', ' ch3', ' ch4', ' ch5', ' ch6',\n",
       "       ' ch7 '],\n",
       "      dtype='object')"
      ]
     },
     "execution_count": 160,
     "metadata": {},
     "output_type": "execute_result"
    }
   ],
   "source": [
    "df.keys()"
   ]
  },
  {
   "attachments": {},
   "cell_type": "markdown",
   "metadata": {},
   "source": [
    "# zero row remove"
   ]
  },
  {
   "cell_type": "code",
   "execution_count": 161,
   "metadata": {},
   "outputs": [],
   "source": [
    "df.replace(to_replace='0', method= 'ffill', inplace=True)"
   ]
  },
  {
   "cell_type": "code",
   "execution_count": null,
   "metadata": {},
   "outputs": [],
   "source": []
  },
  {
   "cell_type": "code",
   "execution_count": 162,
   "metadata": {},
   "outputs": [],
   "source": [
    "def data_seperator(direction ):\n",
    "    Data_file = []\n",
    "    tem = []\n",
    "    first = 0\n",
    "    last = 0\n",
    "    i = 0\n",
    "    while i < (len(df)):\n",
    "\n",
    "        if df['status'][i] == direction:\n",
    "            first = i\n",
    "            while (i < len(df)) and  (df['status'][i] == direction) :\n",
    "                i += 1\n",
    "            last = i\n",
    "            Data_file.append(df[:][first:last]) \n",
    "            # print(first)\n",
    "        i += 1 \n",
    "    return Data_file\n"
   ]
  },
  {
   "cell_type": "code",
   "execution_count": 163,
   "metadata": {},
   "outputs": [],
   "source": [
    "def test_size():\n",
    "    for y in range(-1,7):\n",
    "        print('*class',y,end=': ')\n",
    "        x = data_seperator(y)\n",
    "        for i in range(len(x)):\n",
    "            print(len(x[i]),end=', ')\n",
    "\n",
    "        print()\n",
    "        print()\n",
    "        print()"
   ]
  },
  {
   "cell_type": "code",
   "execution_count": 164,
   "metadata": {},
   "outputs": [
    {
     "name": "stdout",
     "output_type": "stream",
     "text": [
      "*class -1: 601, 714, 601, 695, 601, 601, 601, 602, 601, 602, 658, 602, 721, 602, 601, 602, 601, 602, 601, 635, \n",
      "\n",
      "\n",
      "*class 0: 189, 120, 128, 120, 121, 120, 121, 120, 120, 141, 120, 183, 120, 120, 120, 120, 120, 121, 120, 121, 193, \n",
      "\n",
      "\n",
      "*class 1: 166, 120, 120, 120, 120, 120, 120, 120, 120, 168, 120, 121, 120, 121, 120, 121, 120, 120, 148, 120, 14, \n",
      "\n",
      "\n",
      "*class 2: 241, 241, 241, 266, 241, 298, 241, 240, 241, 240, 241, 240, 241, 240, 350, 240, 240, 240, 240, 240, \n",
      "\n",
      "\n",
      "*class 3: 607, 601, 722, 653, 601, 601, \n",
      "\n",
      "\n",
      "*class 4: 601, 601, 601, 601, 601, 722, \n",
      "\n",
      "\n",
      "*class 5: 601, 612, 601, 694, \n",
      "\n",
      "\n",
      "*class 6: 602, 664, 601, 601, \n",
      "\n",
      "\n"
     ]
    }
   ],
   "source": [
    "test_size()"
   ]
  },
  {
   "cell_type": "code",
   "execution_count": 165,
   "metadata": {},
   "outputs": [],
   "source": [
    "#import sys\n",
    "#sys.exit()"
   ]
  },
  {
   "cell_type": "code",
   "execution_count": 166,
   "metadata": {},
   "outputs": [
    {
     "name": "stdout",
     "output_type": "stream",
     "text": [
      "189, 120, 128, 120, 121, 120, 121, 120, 120, 141, 120, 183, 120, 120, 120, 120, 120, 121, 120, 121, 193, "
     ]
    }
   ],
   "source": [
    "x = data_seperator(0)\n",
    "for i in range(len(x)):\n",
    "    print(len(x[i]),end=', ')"
   ]
  },
  {
   "cell_type": "code",
   "execution_count": 167,
   "metadata": {},
   "outputs": [
    {
     "name": "stdout",
     "output_type": "stream",
     "text": [
      "601, 612, 601, 694, "
     ]
    }
   ],
   "source": [
    "x = data_seperator(5)\n",
    "for i in range(len(x)):\n",
    "    print(len(x[i]),end=', ')"
   ]
  },
  {
   "cell_type": "code",
   "execution_count": 168,
   "metadata": {},
   "outputs": [
    {
     "ename": "KeyError",
     "evalue": "'label'",
     "output_type": "error",
     "traceback": [
      "\u001b[1;31m---------------------------------------------------------------------------\u001b[0m",
      "\u001b[1;31mKeyError\u001b[0m                                  Traceback (most recent call last)",
      "File \u001b[1;32mc:\\Users\\Acer\\.conda\\envs\\e16-4yp-Enhancing-Video-Game-Experience-With-Brain-Computer-Interface\\lib\\site-packages\\pandas\\core\\indexes\\base.py:3621\u001b[0m, in \u001b[0;36mIndex.get_loc\u001b[1;34m(self, key, method, tolerance)\u001b[0m\n\u001b[0;32m   3620\u001b[0m \u001b[39mtry\u001b[39;00m:\n\u001b[1;32m-> 3621\u001b[0m     \u001b[39mreturn\u001b[39;00m \u001b[39mself\u001b[39;49m\u001b[39m.\u001b[39;49m_engine\u001b[39m.\u001b[39;49mget_loc(casted_key)\n\u001b[0;32m   3622\u001b[0m \u001b[39mexcept\u001b[39;00m \u001b[39mKeyError\u001b[39;00m \u001b[39mas\u001b[39;00m err:\n",
      "File \u001b[1;32mc:\\Users\\Acer\\.conda\\envs\\e16-4yp-Enhancing-Video-Game-Experience-With-Brain-Computer-Interface\\lib\\site-packages\\pandas\\_libs\\index.pyx:136\u001b[0m, in \u001b[0;36mpandas._libs.index.IndexEngine.get_loc\u001b[1;34m()\u001b[0m\n",
      "File \u001b[1;32mc:\\Users\\Acer\\.conda\\envs\\e16-4yp-Enhancing-Video-Game-Experience-With-Brain-Computer-Interface\\lib\\site-packages\\pandas\\_libs\\index.pyx:163\u001b[0m, in \u001b[0;36mpandas._libs.index.IndexEngine.get_loc\u001b[1;34m()\u001b[0m\n",
      "File \u001b[1;32mpandas\\_libs\\hashtable_class_helper.pxi:5198\u001b[0m, in \u001b[0;36mpandas._libs.hashtable.PyObjectHashTable.get_item\u001b[1;34m()\u001b[0m\n",
      "File \u001b[1;32mpandas\\_libs\\hashtable_class_helper.pxi:5206\u001b[0m, in \u001b[0;36mpandas._libs.hashtable.PyObjectHashTable.get_item\u001b[1;34m()\u001b[0m\n",
      "\u001b[1;31mKeyError\u001b[0m: 'label'",
      "\nThe above exception was the direct cause of the following exception:\n",
      "\u001b[1;31mKeyError\u001b[0m                                  Traceback (most recent call last)",
      "Cell \u001b[1;32mIn [168], line 2\u001b[0m\n\u001b[0;32m      1\u001b[0m tem \u001b[39m=\u001b[39m []\n\u001b[1;32m----> 2\u001b[0m tem\u001b[39m.\u001b[39mappend(df[\u001b[39m'\u001b[39;49m\u001b[39mlabel\u001b[39;49m\u001b[39m'\u001b[39;49m])\n",
      "File \u001b[1;32mc:\\Users\\Acer\\.conda\\envs\\e16-4yp-Enhancing-Video-Game-Experience-With-Brain-Computer-Interface\\lib\\site-packages\\pandas\\core\\frame.py:3505\u001b[0m, in \u001b[0;36mDataFrame.__getitem__\u001b[1;34m(self, key)\u001b[0m\n\u001b[0;32m   3503\u001b[0m \u001b[39mif\u001b[39;00m \u001b[39mself\u001b[39m\u001b[39m.\u001b[39mcolumns\u001b[39m.\u001b[39mnlevels \u001b[39m>\u001b[39m \u001b[39m1\u001b[39m:\n\u001b[0;32m   3504\u001b[0m     \u001b[39mreturn\u001b[39;00m \u001b[39mself\u001b[39m\u001b[39m.\u001b[39m_getitem_multilevel(key)\n\u001b[1;32m-> 3505\u001b[0m indexer \u001b[39m=\u001b[39m \u001b[39mself\u001b[39;49m\u001b[39m.\u001b[39;49mcolumns\u001b[39m.\u001b[39;49mget_loc(key)\n\u001b[0;32m   3506\u001b[0m \u001b[39mif\u001b[39;00m is_integer(indexer):\n\u001b[0;32m   3507\u001b[0m     indexer \u001b[39m=\u001b[39m [indexer]\n",
      "File \u001b[1;32mc:\\Users\\Acer\\.conda\\envs\\e16-4yp-Enhancing-Video-Game-Experience-With-Brain-Computer-Interface\\lib\\site-packages\\pandas\\core\\indexes\\base.py:3623\u001b[0m, in \u001b[0;36mIndex.get_loc\u001b[1;34m(self, key, method, tolerance)\u001b[0m\n\u001b[0;32m   3621\u001b[0m     \u001b[39mreturn\u001b[39;00m \u001b[39mself\u001b[39m\u001b[39m.\u001b[39m_engine\u001b[39m.\u001b[39mget_loc(casted_key)\n\u001b[0;32m   3622\u001b[0m \u001b[39mexcept\u001b[39;00m \u001b[39mKeyError\u001b[39;00m \u001b[39mas\u001b[39;00m err:\n\u001b[1;32m-> 3623\u001b[0m     \u001b[39mraise\u001b[39;00m \u001b[39mKeyError\u001b[39;00m(key) \u001b[39mfrom\u001b[39;00m \u001b[39merr\u001b[39;00m\n\u001b[0;32m   3624\u001b[0m \u001b[39mexcept\u001b[39;00m \u001b[39mTypeError\u001b[39;00m:\n\u001b[0;32m   3625\u001b[0m     \u001b[39m# If we have a listlike key, _check_indexing_error will raise\u001b[39;00m\n\u001b[0;32m   3626\u001b[0m     \u001b[39m#  InvalidIndexError. Otherwise we fall through and re-raise\u001b[39;00m\n\u001b[0;32m   3627\u001b[0m     \u001b[39m#  the TypeError.\u001b[39;00m\n\u001b[0;32m   3628\u001b[0m     \u001b[39mself\u001b[39m\u001b[39m.\u001b[39m_check_indexing_error(key)\n",
      "\u001b[1;31mKeyError\u001b[0m: 'label'"
     ]
    }
   ],
   "source": [
    "tem = []\n",
    "tem.append(df['label'])\n"
   ]
  },
  {
   "cell_type": "code",
   "execution_count": null,
   "metadata": {},
   "outputs": [],
   "source": [
    "tem.append(df['ch1'][:100])"
   ]
  },
  {
   "cell_type": "code",
   "execution_count": null,
   "metadata": {},
   "outputs": [
    {
     "name": "stdout",
     "output_type": "stream",
     "text": [
      "0        0\n",
      "1        0\n",
      "2        0\n",
      "3        0\n",
      "4        0\n",
      "        ..\n",
      "22242   -1\n",
      "22243   -1\n",
      "22244   -1\n",
      "22245   -1\n",
      "22246   -1\n",
      "Name: label, Length: 22247, dtype: int64\n"
     ]
    }
   ],
   "source": [
    "print(tem[0])"
   ]
  }
 ],
 "metadata": {
  "kernelspec": {
   "display_name": "e16-4yp-Enhancing-Video-Game-Experience-With-Brain-Computer-Interface",
   "language": "python",
   "name": "python3"
  },
  "language_info": {
   "codemirror_mode": {
    "name": "ipython",
    "version": 3
   },
   "file_extension": ".py",
   "mimetype": "text/x-python",
   "name": "python",
   "nbconvert_exporter": "python",
   "pygments_lexer": "ipython3",
   "version": "3.10.6"
  },
  "orig_nbformat": 4,
  "vscode": {
   "interpreter": {
    "hash": "8ed977939dcdea751842ebb05a80824986385d647013b321e03bf6e48c7ee96c"
   }
  }
 },
 "nbformat": 4,
 "nbformat_minor": 2
}
