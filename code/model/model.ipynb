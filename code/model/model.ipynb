{
 "cells": [
  {
   "cell_type": "code",
   "execution_count": 17,
   "metadata": {},
   "outputs": [],
   "source": [
    "import numpy as np"
   ]
  },
  {
   "cell_type": "code",
   "execution_count": 18,
   "metadata": {},
   "outputs": [],
   "source": [
    "X = np.load('X_Dataset_1_to_9.npy')\n",
    "Y = np.load('Y_Dataset_1_to_9.npy')"
   ]
  },
  {
   "cell_type": "code",
   "execution_count": 19,
   "metadata": {},
   "outputs": [
    {
     "name": "stdout",
     "output_type": "stream",
     "text": [
      "(1800, 128, 26, 27) (1800,)\n"
     ]
    }
   ],
   "source": [
    "print(X.shape, Y.shape)"
   ]
  },
  {
   "cell_type": "code",
   "execution_count": 20,
   "metadata": {},
   "outputs": [],
   "source": [
    "def strings_to_number(argument):\n",
    "    switcher = {\n",
    "        \"Up\": 0,\n",
    "        \"Down\": 1,\n",
    "        \"Left\": 2,\n",
    "        \"Right\": 3,\n",
    "    }\n",
    "\n",
    "    return switcher.get(argument, \"nothing\")\n"
   ]
  },
  {
   "cell_type": "code",
   "execution_count": 21,
   "metadata": {},
   "outputs": [],
   "source": [
    "for i in range(Y.shape[0]):\n",
    "    \n",
    "    Y[i] = strings_to_number(Y[i])\n",
    "\n"
   ]
  },
  {
   "cell_type": "code",
   "execution_count": 22,
   "metadata": {},
   "outputs": [
    {
     "name": "stderr",
     "output_type": "stream",
     "text": [
      "/tmp/ipykernel_5263/507242457.py:2: DeprecationWarning: `np.int` is a deprecated alias for the builtin `int`. To silence this warning, use `int` by itself. Doing this will not modify any behavior and is safe. When replacing `np.int`, you may wish to use e.g. `np.int64` or `np.int32` to specify the precision. If you wish to review your current use, check the release note link for additional information.\n",
      "Deprecated in NumPy 1.20; for more details and guidance: https://numpy.org/devdocs/release/1.20.0-notes.html#deprecations\n",
      "  Y = Y.astype(np.int)\n"
     ]
    }
   ],
   "source": [
    "Y[Y == ''] = 0.0\n",
    "Y = Y.astype(np.int)"
   ]
  },
  {
   "cell_type": "code",
   "execution_count": 23,
   "metadata": {},
   "outputs": [
    {
     "data": {
      "text/plain": [
       "numpy.int64"
      ]
     },
     "execution_count": 23,
     "metadata": {},
     "output_type": "execute_result"
    }
   ],
   "source": [
    "type(Y[0])"
   ]
  },
  {
   "cell_type": "markdown",
   "metadata": {},
   "source": [
    "# channel non specific model"
   ]
  },
  {
   "cell_type": "code",
   "execution_count": 24,
   "metadata": {},
   "outputs": [
    {
     "name": "stdout",
     "output_type": "stream",
     "text": [
      "(1800, 128, 26, 27)\n"
     ]
    }
   ],
   "source": [
    "Non_channel_X = X\n",
    "print(Non_channel_X.shape)"
   ]
  },
  {
   "cell_type": "code",
   "execution_count": 25,
   "metadata": {},
   "outputs": [],
   "source": [
    "from sklearn.utils import shuffle"
   ]
  },
  {
   "cell_type": "markdown",
   "metadata": {},
   "source": [
    "## Normalized "
   ]
  },
  {
   "cell_type": "code",
   "execution_count": 26,
   "metadata": {},
   "outputs": [
    {
     "name": "stdout",
     "output_type": "stream",
     "text": [
      "0.0006500947\n",
      "[[[1.24760612e-03 1.16563328e-02 6.86636614e-03 ... 1.67436730e-02\n",
      "   9.05167218e-03 4.19920572e-04]\n",
      "  [1.29533838e-03 7.05035776e-03 4.28065751e-03 ... 1.26389135e-02\n",
      "   8.98388028e-03 4.60406591e-04]\n",
      "  [1.75520079e-03 3.65451653e-03 2.66604917e-03 ... 8.20344593e-03\n",
      "   7.57514872e-03 5.48125594e-04]\n",
      "  ...\n",
      "  [2.54062645e-04 1.46974984e-04 2.27401717e-04 ... 4.44084435e-05\n",
      "   2.15913067e-04 2.07068675e-04]\n",
      "  [8.52892845e-05 6.85354680e-05 1.29466071e-05 ... 3.76694770e-05\n",
      "   7.59814211e-05 2.00841998e-04]\n",
      "  [5.54215403e-05 7.87678346e-06 4.82021142e-06 ... 2.84910197e-06\n",
      "   8.42547379e-05 1.97061090e-04]]\n",
      "\n",
      " [[1.00450206e-03 1.18303979e-02 7.30016036e-03 ... 1.73214115e-02\n",
      "   9.80220083e-03 4.62345808e-04]\n",
      "  [1.28952414e-03 7.22071063e-03 4.65282612e-03 ... 1.29698804e-02\n",
      "   9.59732383e-03 4.95595799e-04]\n",
      "  [1.88073423e-03 3.41821043e-03 2.77241459e-03 ... 8.28986149e-03\n",
      "   7.76192220e-03 5.65160939e-04]\n",
      "  ...\n",
      "  [2.38945955e-04 1.70566214e-04 2.27705677e-04 ... 3.97119475e-05\n",
      "   2.66964111e-04 2.45029718e-04]\n",
      "  [9.64831634e-05 7.10528111e-05 3.58614234e-05 ... 4.26039915e-05\n",
      "   8.29893397e-05 2.38114444e-04]\n",
      "  [8.70885488e-05 1.08376207e-06 7.85081920e-06 ... 5.96962877e-07\n",
      "   9.76766241e-05 2.33587518e-04]]\n",
      "\n",
      " [[1.35249156e-03 1.22804148e-02 8.02674983e-03 ... 1.68094933e-02\n",
      "   9.50434711e-03 5.08060330e-04]\n",
      "  [1.33819727e-03 7.45729590e-03 4.73492732e-03 ... 1.25841880e-02\n",
      "   9.41340066e-03 5.14072075e-04]\n",
      "  [1.61889941e-03 3.91915441e-03 2.63326522e-03 ... 8.06653127e-03\n",
      "   7.58689223e-03 5.31192520e-04]\n",
      "  ...\n",
      "  [2.28926976e-04 1.86559264e-04 2.17853449e-04 ... 1.51292843e-05\n",
      "   1.81381663e-04 1.92257430e-04]\n",
      "  [8.13865117e-05 6.89773224e-05 1.65225538e-05 ... 2.07446174e-05\n",
      "   7.81882409e-05 1.89029015e-04]\n",
      "  [4.78381371e-05 5.85696762e-06 4.83106896e-06 ... 1.84858538e-06\n",
      "   8.32068908e-05 1.86038844e-04]]\n",
      "\n",
      " ...\n",
      "\n",
      " [[2.12503524e-04 1.00404499e-02 1.03214970e-02 ... 1.41038653e-02\n",
      "   1.09796626e-02 1.84318866e-04]\n",
      "  [1.46169390e-03 5.56928804e-03 4.52865334e-03 ... 9.46352072e-03\n",
      "   8.45468696e-03 2.18326866e-04]\n",
      "  [3.61867389e-03 4.16894676e-03 4.55627637e-03 ... 6.05297694e-03\n",
      "   6.48748176e-03 2.33288694e-04]\n",
      "  ...\n",
      "  [3.85573978e-04 2.68020376e-04 3.04022891e-04 ... 1.48444335e-04\n",
      "   1.80828647e-04 2.39945584e-04]\n",
      "  [2.09402875e-04 5.84052686e-05 6.60180522e-05 ... 5.29396129e-05\n",
      "   5.80112137e-05 2.05005694e-04]\n",
      "  [2.16232380e-04 1.02957456e-05 1.45192889e-05 ... 1.72252373e-06\n",
      "   7.88954640e-05 1.90303806e-04]]\n",
      "\n",
      " [[6.50007045e-04 6.79811835e-03 5.79971960e-03 ... 1.18040554e-02\n",
      "   6.53150119e-03 5.98692917e-04]\n",
      "  [6.76014635e-04 3.66532244e-03 1.96744734e-03 ... 7.47266924e-03\n",
      "   4.99610091e-03 6.22381514e-04]\n",
      "  [2.97211367e-03 5.88120567e-03 5.99864125e-03 ... 4.90196608e-03\n",
      "   4.82614152e-03 6.33811578e-04]\n",
      "  ...\n",
      "  [5.03051444e-04 3.95115727e-04 5.12987492e-04 ... 3.36566445e-04\n",
      "   2.82428489e-04 2.31463244e-04]\n",
      "  [3.45246313e-04 9.24344931e-05 1.23489735e-04 ... 1.10906811e-04\n",
      "   4.18508389e-05 1.78503018e-04]\n",
      "  [3.65798507e-04 1.01353235e-05 1.67654744e-05 ... 8.15288240e-06\n",
      "   9.19805316e-05 1.56802838e-04]]\n",
      "\n",
      " [[6.33755059e-04 6.68337941e-03 5.89842489e-03 ... 1.24308188e-02\n",
      "   7.31147919e-03 3.70013935e-04]\n",
      "  [6.08231407e-04 3.71902669e-03 2.11229059e-03 ... 7.82610103e-03\n",
      "   5.23826573e-03 4.16874973e-04]\n",
      "  [2.97613442e-03 5.51619101e-03 6.18620217e-03 ... 4.81756730e-03\n",
      "   4.62686270e-03 4.62724885e-04]\n",
      "  ...\n",
      "  [5.99426567e-04 3.90403759e-04 4.46413527e-04 ... 3.54366726e-04\n",
      "   2.50785728e-04 1.94095948e-04]\n",
      "  [4.26527520e-04 7.86642049e-05 9.90685003e-05 ... 1.37873416e-04\n",
      "   4.84108932e-05 1.47643252e-04]\n",
      "  [4.43227735e-04 9.18336173e-06 1.48876134e-05 ... 5.68237692e-06\n",
      "   8.66023547e-05 1.30862856e-04]]]\n"
     ]
    }
   ],
   "source": [
    "# shuffle the dataset\n",
    "nor_X,Y = shuffle(X,Y)\n",
    "\n",
    "nor_X = nor_X.astype('float32')\n",
    "xmax = np.amax(nor_X)\n",
    "print(xmax)\n",
    "nor_X = nor_X / xmax\n",
    "print(nor_X[0])\n"
   ]
  },
  {
   "cell_type": "markdown",
   "metadata": {},
   "source": [
    "## non channel "
   ]
  },
  {
   "cell_type": "code",
   "execution_count": 27,
   "metadata": {},
   "outputs": [],
   "source": [
    "from sklearn.model_selection import train_test_split"
   ]
  },
  {
   "cell_type": "code",
   "execution_count": 28,
   "metadata": {},
   "outputs": [],
   "source": [
    "x_train, x_test, y_train, y_test = train_test_split(nor_X[:,0,:,:],Y, test_size=0.2, random_state=1)"
   ]
  },
  {
   "cell_type": "code",
   "execution_count": 29,
   "metadata": {},
   "outputs": [
    {
     "name": "stdout",
     "output_type": "stream",
     "text": [
      "(1440, 26, 27) (1440,)\n"
     ]
    }
   ],
   "source": [
    "print(x_train.shape,y_train.shape)"
   ]
  },
  {
   "cell_type": "code",
   "execution_count": 30,
   "metadata": {},
   "outputs": [],
   "source": [
    "for i in range(1,128):\n",
    "    x0, x1, y0, y1 = train_test_split(nor_X[:,i,:,:],Y, test_size=0.8, random_state=1)\n",
    "    x_train = np.append(x_train, x0, axis=0)\n",
    "    x_test  = np.append(x_test , x1, axis=0)\n",
    "    y_train = np.append(y_train, y0)\n",
    "    y_test  = np.append(y_test , y1)\n",
    "\n"
   ]
  },
  {
   "cell_type": "code",
   "execution_count": null,
   "metadata": {},
   "outputs": [],
   "source": []
  },
  {
   "cell_type": "code",
   "execution_count": 31,
   "metadata": {},
   "outputs": [
    {
     "name": "stdout",
     "output_type": "stream",
     "text": [
      "(47160, 26, 27) (47160,)\n"
     ]
    }
   ],
   "source": [
    "print(x_train.shape,y_train.shape)"
   ]
  },
  {
   "cell_type": "code",
   "execution_count": 32,
   "metadata": {},
   "outputs": [
    {
     "ename": "ModuleNotFoundError",
     "evalue": "No module named 'tensorflow'",
     "output_type": "error",
     "traceback": [
      "\u001b[0;31m---------------------------------------------------------------------------\u001b[0m",
      "\u001b[0;31mModuleNotFoundError\u001b[0m                       Traceback (most recent call last)",
      "\u001b[0;32m/tmp/ipykernel_5263/370009946.py\u001b[0m in \u001b[0;36m<module>\u001b[0;34m\u001b[0m\n\u001b[0;32m----> 1\u001b[0;31m \u001b[0;32mfrom\u001b[0m \u001b[0mkeras\u001b[0m\u001b[0;34m.\u001b[0m\u001b[0mlayers\u001b[0m \u001b[0;32mimport\u001b[0m \u001b[0mDense\u001b[0m\u001b[0;34m,\u001b[0m \u001b[0mConv2D\u001b[0m\u001b[0;34m,\u001b[0m \u001b[0mFlatten\u001b[0m\u001b[0;34m,\u001b[0m \u001b[0mMaxPool2D\u001b[0m\u001b[0;34m\u001b[0m\u001b[0;34m\u001b[0m\u001b[0m\n\u001b[0m\u001b[1;32m      2\u001b[0m \u001b[0;32mimport\u001b[0m \u001b[0mtensorflow\u001b[0m \u001b[0;32mas\u001b[0m \u001b[0mtf\u001b[0m\u001b[0;34m\u001b[0m\u001b[0;34m\u001b[0m\u001b[0m\n\u001b[1;32m      3\u001b[0m \u001b[0;32mfrom\u001b[0m \u001b[0mtensorflow\u001b[0m\u001b[0;34m.\u001b[0m\u001b[0mkeras\u001b[0m\u001b[0;34m.\u001b[0m\u001b[0mmodels\u001b[0m \u001b[0;32mimport\u001b[0m \u001b[0mSequential\u001b[0m\u001b[0;34m\u001b[0m\u001b[0;34m\u001b[0m\u001b[0m\n\u001b[1;32m      4\u001b[0m \u001b[0;32mimport\u001b[0m \u001b[0mmatplotlib\u001b[0m\u001b[0;34m.\u001b[0m\u001b[0mpyplot\u001b[0m \u001b[0;32mas\u001b[0m \u001b[0mplt\u001b[0m\u001b[0;34m\u001b[0m\u001b[0;34m\u001b[0m\u001b[0m\n",
      "\u001b[0;32m/usr/lib/python3/dist-packages/keras/__init__.py\u001b[0m in \u001b[0;36m<module>\u001b[0;34m\u001b[0m\n\u001b[1;32m     19\u001b[0m \"\"\"\n\u001b[1;32m     20\u001b[0m \u001b[0;31m# pylint: disable=unused-import\u001b[0m\u001b[0;34m\u001b[0m\u001b[0;34m\u001b[0m\u001b[0m\n\u001b[0;32m---> 21\u001b[0;31m \u001b[0;32mfrom\u001b[0m \u001b[0mtensorflow\u001b[0m\u001b[0;34m.\u001b[0m\u001b[0mpython\u001b[0m \u001b[0;32mimport\u001b[0m \u001b[0mtf2\u001b[0m\u001b[0;34m\u001b[0m\u001b[0;34m\u001b[0m\u001b[0m\n\u001b[0m\u001b[1;32m     22\u001b[0m \u001b[0;32mfrom\u001b[0m \u001b[0mkeras\u001b[0m \u001b[0;32mimport\u001b[0m \u001b[0mdistribute\u001b[0m\u001b[0;34m\u001b[0m\u001b[0;34m\u001b[0m\u001b[0m\n\u001b[1;32m     23\u001b[0m \u001b[0;34m\u001b[0m\u001b[0m\n",
      "\u001b[0;31mModuleNotFoundError\u001b[0m: No module named 'tensorflow'"
     ]
    }
   ],
   "source": [
    "from keras.layers import Dense, Conv2D, Flatten, MaxPool2D\n",
    "import tensorflow as tf\n",
    "from tensorflow.keras.models import Sequential\n",
    "import matplotlib.pyplot as plt"
   ]
  },
  {
   "cell_type": "code",
   "execution_count": null,
   "metadata": {},
   "outputs": [],
   "source": [
    "'''\n",
    "model = tf.keras.Sequential([\n",
    "     tf.keras.layers.Flatten(input_shape=(129,7)),\n",
    "     tf.keras.layers.Dense(100, activation='relu'),\n",
    "     tf.keras.layers.Dense(4, activation = 'sigmoid')\n",
    "])\n",
    "'''\n",
    "\n",
    "#defining model\n",
    "model=Sequential()\n",
    "#adding convolution layer\n",
    "model.add(Conv2D(32,(3,3),activation='relu',input_shape=(26,27,1)))\n",
    "#adding pooling layer\n",
    "model.add(MaxPool2D(2,2))\n",
    "#adding fully connected layer\n",
    "model.add(Flatten())\n",
    "model.add(Dense(200,activation='relu'))\n",
    "#adding output layer\n",
    "model.add(Dense(4,activation='softmax'))\n"
   ]
  },
  {
   "cell_type": "code",
   "execution_count": null,
   "metadata": {},
   "outputs": [],
   "source": [
    "epochs = 25\n",
    "\n",
    "model.compile(loss=\"sparse_categorical_crossentropy\", optimizer=\"adam\", metrics=[\"accuracy\"])"
   ]
  },
  {
   "cell_type": "code",
   "execution_count": null,
   "metadata": {},
   "outputs": [
    {
     "data": {
      "text/plain": [
       "array([2, 1, 1, ..., 1, 1, 2])"
      ]
     },
     "execution_count": 141,
     "metadata": {},
     "output_type": "execute_result"
    }
   ],
   "source": [
    "y_train"
   ]
  },
  {
   "cell_type": "code",
   "execution_count": null,
   "metadata": {},
   "outputs": [
    {
     "name": "stdout",
     "output_type": "stream",
     "text": [
      "Epoch 1/25\n",
      "1474/1474 [==============================] - 91s 61ms/step - loss: 1.3827 - accuracy: 0.2683\n",
      "Epoch 2/25\n",
      " 187/1474 [==>...........................] - ETA: 1:25 - loss: 1.3696 - accuracy: 0.3135"
     ]
    }
   ],
   "source": [
    "model.fit(x_train, y_train, epochs=epochs)"
   ]
  },
  {
   "cell_type": "code",
   "execution_count": null,
   "metadata": {},
   "outputs": [
    {
     "name": "stdout",
     "output_type": "stream",
     "text": [
      "2.10.0\n"
     ]
    }
   ],
   "source": [
    "import tensorflow as tf\n",
    "print(tf.__version__)"
   ]
  },
  {
   "cell_type": "markdown",
   "metadata": {},
   "source": [
    "## channel specific "
   ]
  },
  {
   "cell_type": "code",
   "execution_count": null,
   "metadata": {},
   "outputs": [],
   "source": [
    "x_train_c1, x_test_c1, y_train_c1, y_test_c1 = train_test_split(nor_X[:,0,:,:],Y, test_size=0.2, random_state=1)"
   ]
  }
 ],
 "metadata": {
  "kernelspec": {
   "display_name": "Python 3.9.13 ('e16-4yp-Enhancing-Video-Game-Experience-With-Brain-Computer-Interface')",
   "language": "python",
   "name": "python3"
  },
  "language_info": {
   "codemirror_mode": {
    "name": "ipython",
    "version": 3
   },
   "file_extension": ".py",
   "mimetype": "text/x-python",
   "name": "python",
   "nbconvert_exporter": "python",
   "pygments_lexer": "ipython3",
   "version": "3.10.6"
  },
  "orig_nbformat": 4,
  "vscode": {
   "interpreter": {
    "hash": "cdb3bcbe67d9ef368361dee237ecf7b6ddb8f82575b43a5e5db7c7d928e63f3a"
   }
  }
 },
 "nbformat": 4,
 "nbformat_minor": 2
}
