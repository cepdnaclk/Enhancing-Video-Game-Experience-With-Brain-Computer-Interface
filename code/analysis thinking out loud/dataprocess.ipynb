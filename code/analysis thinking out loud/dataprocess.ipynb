{
 "cells": [
  {
   "cell_type": "code",
   "execution_count": 1,
   "metadata": {},
   "outputs": [],
   "source": [
    "import matplotlib\n",
    "import pathlib\n",
    "import mne\n",
    "\n",
    "matplotlib.use('Qt5Agg')"
   ]
  },
  {
   "cell_type": "code",
   "execution_count": 2,
   "metadata": {
    "pycharm": {
     "name": "#%%\n"
    }
   },
   "outputs": [
    {
     "name": "stdout",
     "output_type": "stream",
     "text": [
      "Extracting EDF parameters from c:\\Users\\Acer\\PycharmProjects\\e16-4yp-Enhancing-Video-Game-Experience-With-Brain-Computer-Interface\\code\\analysis thinking out loud\\sub-01_ses-01_task-innerspeech_eeg.bdf...\n",
      "BDF file detected\n",
      "Setting channel info structure...\n",
      "Could not determine channel type of the following channels, they will be set as EEG:\n",
      "A1, A2, A3, A4, A5, A6, A7, A8, A9, A10, A11, A12, A13, A14, A15, A16, A17, A18, A19, A20, A21, A22, A23, A24, A25, A26, A27, A28, A29, A30, A31, A32, B1, B2, B3, B4, B5, B6, B7, B8, B9, B10, B11, B12, B13, B14, B15, B16, B17, B18, B19, B20, B21, B22, B23, B24, B25, B26, B27, B28, B29, B30, B31, B32, C1, C2, C3, C4, C5, C6, C7, C8, C9, C10, C11, C12, C13, C14, C15, C16, C17, C18, C19, C20, C21, C22, C23, C24, C25, C26, C27, C28, C29, C30, C31, C32, D1, D2, D3, D4, D5, D6, D7, D8, D9, D10, D11, D12, D13, D14, D15, D16, D17, D18, D19, D20, D21, D22, D23, D24, D25, D26, D27, D28, D29, D30, D31, D32, EXG1, EXG2, EXG3, EXG4, EXG5, EXG6, EXG7, EXG8\n",
      "Creating raw.info structure...\n",
      "Reading 0 ... 1875967  =      0.000 ...  1831.999 secs...\n"
     ]
    }
   ],
   "source": [
    "raw = mne.io.read_raw_bdf('sub-01_ses-01_task-innerspeech_eeg.bdf', preload=True)"
   ]
  },
  {
   "cell_type": "code",
   "execution_count": 3,
   "metadata": {
    "pycharm": {
     "name": "#%%\n"
    }
   },
   "outputs": [
    {
     "name": "stdout",
     "output_type": "stream",
     "text": [
      "Using matplotlib as 2D backend.\n"
     ]
    },
    {
     "data": {
      "text/plain": [
       "<MNEBrowseFigure size 1920x1009 with 4 Axes>"
      ]
     },
     "execution_count": 3,
     "metadata": {},
     "output_type": "execute_result"
    }
   ],
   "source": [
    "raw.plot()"
   ]
  },
  {
   "cell_type": "code",
   "execution_count": 4,
   "metadata": {
    "pycharm": {
     "name": "#%%\n"
    }
   },
   "outputs": [
    {
     "data": {
      "text/html": [
       "\n",
       "<table class=\"table table-hover table-striped table-sm table-responsive small\">\n",
       "    <tr>\n",
       "        <th>Measurement date</th>\n",
       "        <td>August 20, 2019  10:57:41 GMT</td>\n",
       "        \n",
       "    </tr>\n",
       "    <tr>\n",
       "        <th>Experimenter</th>\n",
       "<td>Unknown</td>\n",
       "    </tr>\n",
       "        <th>Participant</th>\n",
       "<td>Unknown</td>\n",
       "    </tr>\n",
       "    <tr>\n",
       "        <th>Digitized points</th>\n",
       "        <td>Not available</td>\n",
       "    </tr>\n",
       "    <tr>\n",
       "        <th>Good channels</th>\n",
       "        <td>136 EEG, 1 Stimulus</td>\n",
       "    </tr>\n",
       "    <tr>\n",
       "        <th>Bad channels</th>\n",
       "        <td>None</td>\n",
       "    </tr>\n",
       "    <tr>\n",
       "        <th>EOG channels</th>\n",
       "        <td>Not available</td>\n",
       "    </tr>\n",
       "    <tr>\n",
       "        <th>ECG channels</th>\n",
       "        <td>Not available</td>\n",
       "    <tr>\n",
       "        <th>Sampling frequency</th>\n",
       "        <td>1024.00 Hz</td>\n",
       "    </tr>\n",
       "    <tr>\n",
       "        <th>Highpass</th>\n",
       "        <td>0.00 Hz</td>\n",
       "    </tr>\n",
       "    <tr>\n",
       "        <th>Lowpass</th>\n",
       "        <td>208.00 Hz</td>\n",
       "    </tr>\n",
       "</table>\n"
      ],
      "text/plain": [
       "<Info | 7 non-empty values\n",
       " bads: []\n",
       " ch_names: A1, A2, A3, A4, A5, A6, A7, A8, A9, A10, A11, A12, A13, A14, ...\n",
       " chs: 136 EEG, 1 Stimulus\n",
       " custom_ref_applied: False\n",
       " highpass: 0.0 Hz\n",
       " lowpass: 208.0 Hz\n",
       " meas_date: 2019-08-20 10:57:41 UTC\n",
       " nchan: 137\n",
       " projs: []\n",
       " sfreq: 1024.0 Hz\n",
       ">"
      ]
     },
     "execution_count": 4,
     "metadata": {},
     "output_type": "execute_result"
    }
   ],
   "source": [
    "raw.info\n"
   ]
  },
  {
   "cell_type": "code",
   "execution_count": 5,
   "metadata": {},
   "outputs": [
    {
     "name": "stdout",
     "output_type": "stream",
     "text": [
      "Filtering raw data in 1 contiguous segment\n",
      "Setting up band-pass filter from 1 - 20 Hz\n",
      "\n",
      "FIR filter parameters\n",
      "---------------------\n",
      "Designing a one-pass, zero-phase, non-causal bandpass filter:\n",
      "- Windowed time-domain design (firwin) method\n",
      "- Hamming window with 0.0194 passband ripple and 53 dB stopband attenuation\n",
      "- Lower passband edge: 1.00\n",
      "- Lower transition bandwidth: 1.00 Hz (-6 dB cutoff frequency: 0.50 Hz)\n",
      "- Upper passband edge: 20.00 Hz\n",
      "- Upper transition bandwidth: 5.00 Hz (-6 dB cutoff frequency: 22.50 Hz)\n",
      "- Filter length: 3381 samples (3.302 sec)\n",
      "\n"
     ]
    },
    {
     "data": {
      "text/html": [
       "\n",
       "\n",
       "<table class=\"table table-hover table-striped table-sm table-responsive small\">\n",
       "    <tr>\n",
       "        <th>Measurement date</th>\n",
       "        <td>August 20, 2019  10:57:41 GMT</td>\n",
       "        \n",
       "    </tr>\n",
       "    <tr>\n",
       "        <th>Experimenter</th>\n",
       "<td>Unknown</td>\n",
       "    </tr>\n",
       "        <th>Participant</th>\n",
       "<td>Unknown</td>\n",
       "    </tr>\n",
       "    <tr>\n",
       "        <th>Digitized points</th>\n",
       "        <td>Not available</td>\n",
       "    </tr>\n",
       "    <tr>\n",
       "        <th>Good channels</th>\n",
       "        <td>136 EEG, 1 Stimulus</td>\n",
       "    </tr>\n",
       "    <tr>\n",
       "        <th>Bad channels</th>\n",
       "        <td>None</td>\n",
       "    </tr>\n",
       "    <tr>\n",
       "        <th>EOG channels</th>\n",
       "        <td>Not available</td>\n",
       "    </tr>\n",
       "    <tr>\n",
       "        <th>ECG channels</th>\n",
       "        <td>Not available</td>\n",
       "    <tr>\n",
       "        <th>Sampling frequency</th>\n",
       "        <td>1024.00 Hz</td>\n",
       "    </tr>\n",
       "    <tr>\n",
       "        <th>Highpass</th>\n",
       "        <td>1.00 Hz</td>\n",
       "    </tr>\n",
       "    <tr>\n",
       "        <th>Lowpass</th>\n",
       "        <td>20.00 Hz</td>\n",
       "    </tr>\n",
       "\n",
       "    <tr>\n",
       "        <th>Filenames</th>\n",
       "        <td>sub-01_ses-01_task-innerspeech_eeg.bdf</td>\n",
       "    </tr>\n",
       "    <tr>\n",
       "        <th>Duration</th>\n",
       "        <td>00:30:31 (HH:MM:SS)</td>\n",
       "    </tr>\n",
       "</table>\n"
      ],
      "text/plain": [
       "<RawEDF | sub-01_ses-01_task-innerspeech_eeg.bdf, 137 x 1875968 (1832.0 s), ~1.91 GB, data loaded>"
      ]
     },
     "execution_count": 5,
     "metadata": {},
     "output_type": "execute_result"
    }
   ],
   "source": [
    "raw.filter(1,20)"
   ]
  },
  {
   "cell_type": "code",
   "execution_count": 6,
   "metadata": {},
   "outputs": [
    {
     "data": {
      "text/plain": [
       "<MNEBrowseFigure size 1920x1009 with 4 Axes>"
      ]
     },
     "execution_count": 6,
     "metadata": {},
     "output_type": "execute_result"
    }
   ],
   "source": [
    "raw.plot()"
   ]
  },
  {
   "cell_type": "code",
   "execution_count": 7,
   "metadata": {},
   "outputs": [
    {
     "data": {
      "text/plain": [
       "['EGI_256',\n",
       " 'GSN-HydroCel-128',\n",
       " 'GSN-HydroCel-129',\n",
       " 'GSN-HydroCel-256',\n",
       " 'GSN-HydroCel-257',\n",
       " 'GSN-HydroCel-32',\n",
       " 'GSN-HydroCel-64_1.0',\n",
       " 'GSN-HydroCel-65_1.0',\n",
       " 'biosemi128',\n",
       " 'biosemi16',\n",
       " 'biosemi160',\n",
       " 'biosemi256',\n",
       " 'biosemi32',\n",
       " 'biosemi64',\n",
       " 'easycap-M1',\n",
       " 'easycap-M10',\n",
       " 'mgh60',\n",
       " 'mgh70',\n",
       " 'standard_1005',\n",
       " 'standard_1020',\n",
       " 'standard_alphabetic',\n",
       " 'standard_postfixed',\n",
       " 'standard_prefixed',\n",
       " 'standard_primed',\n",
       " 'artinis-octamon',\n",
       " 'artinis-brite23']"
      ]
     },
     "execution_count": 7,
     "metadata": {},
     "output_type": "execute_result"
    }
   ],
   "source": [
    "mne.channels.get_builtin_montages()"
   ]
  },
  {
   "cell_type": "code",
   "execution_count": 8,
   "metadata": {},
   "outputs": [
    {
     "data": {
      "text/plain": [
       "['A1',\n",
       " 'A2',\n",
       " 'A3',\n",
       " 'A4',\n",
       " 'A5',\n",
       " 'A6',\n",
       " 'A7',\n",
       " 'A8',\n",
       " 'A9',\n",
       " 'A10',\n",
       " 'A11',\n",
       " 'A12',\n",
       " 'A13',\n",
       " 'A14',\n",
       " 'A15',\n",
       " 'A16',\n",
       " 'A17',\n",
       " 'A18',\n",
       " 'A19',\n",
       " 'A20',\n",
       " 'A21',\n",
       " 'A22',\n",
       " 'A23',\n",
       " 'A24',\n",
       " 'A25',\n",
       " 'A26',\n",
       " 'A27',\n",
       " 'A28',\n",
       " 'A29',\n",
       " 'A30',\n",
       " 'A31',\n",
       " 'A32',\n",
       " 'B1',\n",
       " 'B2',\n",
       " 'B3',\n",
       " 'B4',\n",
       " 'B5',\n",
       " 'B6',\n",
       " 'B7',\n",
       " 'B8',\n",
       " 'B9',\n",
       " 'B10',\n",
       " 'B11',\n",
       " 'B12',\n",
       " 'B13',\n",
       " 'B14',\n",
       " 'B15',\n",
       " 'B16',\n",
       " 'B17',\n",
       " 'B18',\n",
       " 'B19',\n",
       " 'B20',\n",
       " 'B21',\n",
       " 'B22',\n",
       " 'B23',\n",
       " 'B24',\n",
       " 'B25',\n",
       " 'B26',\n",
       " 'B27',\n",
       " 'B28',\n",
       " 'B29',\n",
       " 'B30',\n",
       " 'B31',\n",
       " 'B32',\n",
       " 'C1',\n",
       " 'C2',\n",
       " 'C3',\n",
       " 'C4',\n",
       " 'C5',\n",
       " 'C6',\n",
       " 'C7',\n",
       " 'C8',\n",
       " 'C9',\n",
       " 'C10',\n",
       " 'C11',\n",
       " 'C12',\n",
       " 'C13',\n",
       " 'C14',\n",
       " 'C15',\n",
       " 'C16',\n",
       " 'C17',\n",
       " 'C18',\n",
       " 'C19',\n",
       " 'C20',\n",
       " 'C21',\n",
       " 'C22',\n",
       " 'C23',\n",
       " 'C24',\n",
       " 'C25',\n",
       " 'C26',\n",
       " 'C27',\n",
       " 'C28',\n",
       " 'C29',\n",
       " 'C30',\n",
       " 'C31',\n",
       " 'C32',\n",
       " 'D1',\n",
       " 'D2',\n",
       " 'D3',\n",
       " 'D4',\n",
       " 'D5',\n",
       " 'D6',\n",
       " 'D7',\n",
       " 'D8',\n",
       " 'D9',\n",
       " 'D10',\n",
       " 'D11',\n",
       " 'D12',\n",
       " 'D13',\n",
       " 'D14',\n",
       " 'D15',\n",
       " 'D16',\n",
       " 'D17',\n",
       " 'D18',\n",
       " 'D19',\n",
       " 'D20',\n",
       " 'D21',\n",
       " 'D22',\n",
       " 'D23',\n",
       " 'D24',\n",
       " 'D25',\n",
       " 'D26',\n",
       " 'D27',\n",
       " 'D28',\n",
       " 'D29',\n",
       " 'D30',\n",
       " 'D31',\n",
       " 'D32',\n",
       " 'EXG1',\n",
       " 'EXG2',\n",
       " 'EXG3',\n",
       " 'EXG4',\n",
       " 'EXG5',\n",
       " 'EXG6',\n",
       " 'EXG7',\n",
       " 'EXG8',\n",
       " 'Status']"
      ]
     },
     "execution_count": 8,
     "metadata": {},
     "output_type": "execute_result"
    }
   ],
   "source": [
    "raw.info[\"ch_names\"]"
   ]
  },
  {
   "cell_type": "code",
   "execution_count": 9,
   "metadata": {},
   "outputs": [
    {
     "name": "stdout",
     "output_type": "stream",
     "text": [
      "Creating RawArray with float64 data, n_channels=128, n_times=1\n",
      "    Range : 0 ... 0 =      0.000 ...     0.000 secs\n",
      "Ready.\n",
      "Creating RawArray with float64 data, n_channels=128, n_times=1\n",
      "    Range : 0 ... 0 =      0.000 ...     0.000 secs\n",
      "Ready.\n"
     ]
    }
   ],
   "source": [
    "montage = mne.channels.make_standard_montage(\"biosemi128\")\n",
    "montage.plot()\n",
    "fig = montage.plot(kind='3d', show=False)"
   ]
  },
  {
   "cell_type": "code",
   "execution_count": 10,
   "metadata": {},
   "outputs": [
    {
     "data": {
      "text/html": [
       "\n",
       "\n",
       "<table class=\"table table-hover table-striped table-sm table-responsive small\">\n",
       "    <tr>\n",
       "        <th>Measurement date</th>\n",
       "        <td>August 20, 2019  10:57:41 GMT</td>\n",
       "        \n",
       "    </tr>\n",
       "    <tr>\n",
       "        <th>Experimenter</th>\n",
       "<td>Unknown</td>\n",
       "    </tr>\n",
       "        <th>Participant</th>\n",
       "<td>Unknown</td>\n",
       "    </tr>\n",
       "    <tr>\n",
       "        <th>Digitized points</th>\n",
       "        <td>Not available</td>\n",
       "    </tr>\n",
       "    <tr>\n",
       "        <th>Good channels</th>\n",
       "        <td>128 EEG, 1 Stimulus</td>\n",
       "    </tr>\n",
       "    <tr>\n",
       "        <th>Bad channels</th>\n",
       "        <td>None</td>\n",
       "    </tr>\n",
       "    <tr>\n",
       "        <th>EOG channels</th>\n",
       "        <td>Not available</td>\n",
       "    </tr>\n",
       "    <tr>\n",
       "        <th>ECG channels</th>\n",
       "        <td>Not available</td>\n",
       "    <tr>\n",
       "        <th>Sampling frequency</th>\n",
       "        <td>1024.00 Hz</td>\n",
       "    </tr>\n",
       "    <tr>\n",
       "        <th>Highpass</th>\n",
       "        <td>1.00 Hz</td>\n",
       "    </tr>\n",
       "    <tr>\n",
       "        <th>Lowpass</th>\n",
       "        <td>20.00 Hz</td>\n",
       "    </tr>\n",
       "\n",
       "    <tr>\n",
       "        <th>Filenames</th>\n",
       "        <td>sub-01_ses-01_task-innerspeech_eeg.bdf</td>\n",
       "    </tr>\n",
       "    <tr>\n",
       "        <th>Duration</th>\n",
       "        <td>00:30:31 (HH:MM:SS)</td>\n",
       "    </tr>\n",
       "</table>\n"
      ],
      "text/plain": [
       "<RawEDF | sub-01_ses-01_task-innerspeech_eeg.bdf, 129 x 1875968 (1832.0 s), ~1.80 GB, data loaded>"
      ]
     },
     "execution_count": 10,
     "metadata": {},
     "output_type": "execute_result"
    }
   ],
   "source": [
    "raw.drop_channels(['EXG1','EXG2','EXG3','EXG4','EXG5','EXG6','EXG7','EXG8'])"
   ]
  },
  {
   "cell_type": "code",
   "execution_count": 11,
   "metadata": {},
   "outputs": [
    {
     "data": {
      "text/html": [
       "\n",
       "\n",
       "<table class=\"table table-hover table-striped table-sm table-responsive small\">\n",
       "    <tr>\n",
       "        <th>Measurement date</th>\n",
       "        <td>August 20, 2019  10:57:41 GMT</td>\n",
       "        \n",
       "    </tr>\n",
       "    <tr>\n",
       "        <th>Experimenter</th>\n",
       "<td>Unknown</td>\n",
       "    </tr>\n",
       "        <th>Participant</th>\n",
       "<td>Unknown</td>\n",
       "    </tr>\n",
       "    <tr>\n",
       "        <th>Digitized points</th>\n",
       "        <td>131 points</td>\n",
       "    </tr>\n",
       "    <tr>\n",
       "        <th>Good channels</th>\n",
       "        <td>128 EEG, 1 Stimulus</td>\n",
       "    </tr>\n",
       "    <tr>\n",
       "        <th>Bad channels</th>\n",
       "        <td>None</td>\n",
       "    </tr>\n",
       "    <tr>\n",
       "        <th>EOG channels</th>\n",
       "        <td>Not available</td>\n",
       "    </tr>\n",
       "    <tr>\n",
       "        <th>ECG channels</th>\n",
       "        <td>Not available</td>\n",
       "    <tr>\n",
       "        <th>Sampling frequency</th>\n",
       "        <td>1024.00 Hz</td>\n",
       "    </tr>\n",
       "    <tr>\n",
       "        <th>Highpass</th>\n",
       "        <td>1.00 Hz</td>\n",
       "    </tr>\n",
       "    <tr>\n",
       "        <th>Lowpass</th>\n",
       "        <td>20.00 Hz</td>\n",
       "    </tr>\n",
       "\n",
       "    <tr>\n",
       "        <th>Filenames</th>\n",
       "        <td>sub-01_ses-01_task-innerspeech_eeg.bdf</td>\n",
       "    </tr>\n",
       "    <tr>\n",
       "        <th>Duration</th>\n",
       "        <td>00:30:31 (HH:MM:SS)</td>\n",
       "    </tr>\n",
       "</table>\n"
      ],
      "text/plain": [
       "<RawEDF | sub-01_ses-01_task-innerspeech_eeg.bdf, 129 x 1875968 (1832.0 s), ~1.80 GB, data loaded>"
      ]
     },
     "execution_count": 11,
     "metadata": {},
     "output_type": "execute_result"
    }
   ],
   "source": [
    "raw.set_montage(montage, match_case=False)"
   ]
  },
  {
   "cell_type": "code",
   "execution_count": 12,
   "metadata": {},
   "outputs": [],
   "source": [
    "fig = raw.plot_sensors(show_names=True)"
   ]
  },
  {
   "cell_type": "code",
   "execution_count": 13,
   "metadata": {},
   "outputs": [
    {
     "name": "stderr",
     "output_type": "stream",
     "text": [
      "c:\\ProgramData\\Anaconda3\\envs\\e16-4yp-Enhancing-Video-Game-Experience-With-Brain-Computer-Interface\\lib\\site-packages\\mne\\utils\\check.py:92: DeprecationWarning: distutils Version classes are deprecated. Use packaging.version instead.\n",
      "  LooseVersion(library.__version__) < LooseVersion(min_version):\n",
      "c:\\ProgramData\\Anaconda3\\envs\\e16-4yp-Enhancing-Video-Game-Experience-With-Brain-Computer-Interface\\lib\\site-packages\\mne\\utils\\check.py:92: DeprecationWarning: distutils Version classes are deprecated. Use packaging.version instead.\n",
      "  LooseVersion(library.__version__) < LooseVersion(min_version):\n"
     ]
    }
   ],
   "source": [
    "ica = mne.preprocessing.ICA(n_components=20, random_state=0)"
   ]
  },
  {
   "cell_type": "code",
   "execution_count": 14,
   "metadata": {},
   "outputs": [
    {
     "name": "stdout",
     "output_type": "stream",
     "text": [
      "Filtering raw data in 1 contiguous segment\n",
      "Setting up band-pass filter from 8 - 35 Hz\n",
      "\n",
      "FIR filter parameters\n",
      "---------------------\n",
      "Designing a one-pass, zero-phase, non-causal bandpass filter:\n",
      "- Windowed time-domain design (firwin) method\n",
      "- Hamming window with 0.0194 passband ripple and 53 dB stopband attenuation\n",
      "- Lower passband edge: 8.00\n",
      "- Lower transition bandwidth: 2.00 Hz (-6 dB cutoff frequency: 7.00 Hz)\n",
      "- Upper passband edge: 35.00 Hz\n",
      "- Upper transition bandwidth: 8.75 Hz (-6 dB cutoff frequency: 39.38 Hz)\n",
      "- Filter length: 1691 samples (1.651 sec)\n",
      "\n",
      "Fitting ICA to data using 128 channels (please be patient, this may take a while)\n",
      "Selecting by number: 20 components\n",
      "Fitting ICA took 77.3s.\n"
     ]
    },
    {
     "data": {
      "text/html": [
       "\n",
       "<table class=\"table table-hover table-striped table-sm table-responsive small\">\n",
       "    <tr>\n",
       "        <th>Method</th>\n",
       "        <td>fastica</td>\n",
       "    </tr>\n",
       "    <tr>\n",
       "        <th>Fit</th>\n",
       "        <td>61 iterations on raw data (1875968 samples)</td>\n",
       "    </tr>\n",
       "    <tr>\n",
       "        <th>ICA components</th>\n",
       "        <td>20</td>\n",
       "    </tr>\n",
       "    <tr>\n",
       "        <th>Explained variance</th>\n",
       "        <td>97.6&nbsp;%</td>\n",
       "    </tr>\n",
       "    <tr>\n",
       "        <th>Available PCA components</th>\n",
       "        <td>128</td>\n",
       "    </tr>\n",
       "    <tr>\n",
       "        <th>Channel types</th>\n",
       "        <td>eeg</td>\n",
       "    </tr>\n",
       "    <tr>\n",
       "        <th>ICA components marked for exclusion</th>\n",
       "        <td>&mdash;</td>\n",
       "    </tr>\n",
       "</table>\n"
      ],
      "text/plain": [
       "<ICA | raw data decomposition, method: fastica (fit in 61 iterations on 1875968 samples), 20 ICA components explaining 97.6 % of variance (128 PCA components available), channel types: eeg, no sources marked for exclusion>"
      ]
     },
     "execution_count": 14,
     "metadata": {},
     "output_type": "execute_result"
    }
   ],
   "source": [
    "ica.fit(raw.copy().filter(8,35))"
   ]
  },
  {
   "cell_type": "code",
   "execution_count": 15,
   "metadata": {},
   "outputs": [
    {
     "name": "stderr",
     "output_type": "stream",
     "text": [
      "c:\\ProgramData\\Anaconda3\\envs\\e16-4yp-Enhancing-Video-Game-Experience-With-Brain-Computer-Interface\\lib\\site-packages\\mne\\utils\\check.py:92: DeprecationWarning: distutils Version classes are deprecated. Use packaging.version instead.\n",
      "  LooseVersion(library.__version__) < LooseVersion(min_version):\n",
      "c:\\ProgramData\\Anaconda3\\envs\\e16-4yp-Enhancing-Video-Game-Experience-With-Brain-Computer-Interface\\lib\\site-packages\\mne\\utils\\check.py:92: DeprecationWarning: distutils Version classes are deprecated. Use packaging.version instead.\n",
      "  LooseVersion(library.__version__) < LooseVersion(min_version):\n",
      "c:\\ProgramData\\Anaconda3\\envs\\e16-4yp-Enhancing-Video-Game-Experience-With-Brain-Computer-Interface\\lib\\site-packages\\mne\\utils\\check.py:92: DeprecationWarning: distutils Version classes are deprecated. Use packaging.version instead.\n",
      "  LooseVersion(library.__version__) < LooseVersion(min_version):\n",
      "c:\\ProgramData\\Anaconda3\\envs\\e16-4yp-Enhancing-Video-Game-Experience-With-Brain-Computer-Interface\\lib\\site-packages\\mne\\utils\\check.py:92: DeprecationWarning: distutils Version classes are deprecated. Use packaging.version instead.\n",
      "  LooseVersion(library.__version__) < LooseVersion(min_version):\n",
      "c:\\ProgramData\\Anaconda3\\envs\\e16-4yp-Enhancing-Video-Game-Experience-With-Brain-Computer-Interface\\lib\\site-packages\\mne\\utils\\check.py:92: DeprecationWarning: distutils Version classes are deprecated. Use packaging.version instead.\n",
      "  LooseVersion(library.__version__) < LooseVersion(min_version):\n",
      "c:\\ProgramData\\Anaconda3\\envs\\e16-4yp-Enhancing-Video-Game-Experience-With-Brain-Computer-Interface\\lib\\site-packages\\mne\\utils\\check.py:92: DeprecationWarning: distutils Version classes are deprecated. Use packaging.version instead.\n",
      "  LooseVersion(library.__version__) < LooseVersion(min_version):\n",
      "c:\\ProgramData\\Anaconda3\\envs\\e16-4yp-Enhancing-Video-Game-Experience-With-Brain-Computer-Interface\\lib\\site-packages\\mne\\utils\\check.py:92: DeprecationWarning: distutils Version classes are deprecated. Use packaging.version instead.\n",
      "  LooseVersion(library.__version__) < LooseVersion(min_version):\n",
      "c:\\ProgramData\\Anaconda3\\envs\\e16-4yp-Enhancing-Video-Game-Experience-With-Brain-Computer-Interface\\lib\\site-packages\\mne\\utils\\check.py:92: DeprecationWarning: distutils Version classes are deprecated. Use packaging.version instead.\n",
      "  LooseVersion(library.__version__) < LooseVersion(min_version):\n",
      "c:\\ProgramData\\Anaconda3\\envs\\e16-4yp-Enhancing-Video-Game-Experience-With-Brain-Computer-Interface\\lib\\site-packages\\mne\\utils\\check.py:92: DeprecationWarning: distutils Version classes are deprecated. Use packaging.version instead.\n",
      "  LooseVersion(library.__version__) < LooseVersion(min_version):\n",
      "c:\\ProgramData\\Anaconda3\\envs\\e16-4yp-Enhancing-Video-Game-Experience-With-Brain-Computer-Interface\\lib\\site-packages\\mne\\utils\\check.py:92: DeprecationWarning: distutils Version classes are deprecated. Use packaging.version instead.\n",
      "  LooseVersion(library.__version__) < LooseVersion(min_version):\n",
      "c:\\ProgramData\\Anaconda3\\envs\\e16-4yp-Enhancing-Video-Game-Experience-With-Brain-Computer-Interface\\lib\\site-packages\\mne\\utils\\check.py:92: DeprecationWarning: distutils Version classes are deprecated. Use packaging.version instead.\n",
      "  LooseVersion(library.__version__) < LooseVersion(min_version):\n",
      "c:\\ProgramData\\Anaconda3\\envs\\e16-4yp-Enhancing-Video-Game-Experience-With-Brain-Computer-Interface\\lib\\site-packages\\mne\\utils\\check.py:92: DeprecationWarning: distutils Version classes are deprecated. Use packaging.version instead.\n",
      "  LooseVersion(library.__version__) < LooseVersion(min_version):\n",
      "c:\\ProgramData\\Anaconda3\\envs\\e16-4yp-Enhancing-Video-Game-Experience-With-Brain-Computer-Interface\\lib\\site-packages\\mne\\utils\\check.py:92: DeprecationWarning: distutils Version classes are deprecated. Use packaging.version instead.\n",
      "  LooseVersion(library.__version__) < LooseVersion(min_version):\n",
      "c:\\ProgramData\\Anaconda3\\envs\\e16-4yp-Enhancing-Video-Game-Experience-With-Brain-Computer-Interface\\lib\\site-packages\\mne\\utils\\check.py:92: DeprecationWarning: distutils Version classes are deprecated. Use packaging.version instead.\n",
      "  LooseVersion(library.__version__) < LooseVersion(min_version):\n",
      "c:\\ProgramData\\Anaconda3\\envs\\e16-4yp-Enhancing-Video-Game-Experience-With-Brain-Computer-Interface\\lib\\site-packages\\mne\\utils\\check.py:92: DeprecationWarning: distutils Version classes are deprecated. Use packaging.version instead.\n",
      "  LooseVersion(library.__version__) < LooseVersion(min_version):\n",
      "c:\\ProgramData\\Anaconda3\\envs\\e16-4yp-Enhancing-Video-Game-Experience-With-Brain-Computer-Interface\\lib\\site-packages\\mne\\utils\\check.py:92: DeprecationWarning: distutils Version classes are deprecated. Use packaging.version instead.\n",
      "  LooseVersion(library.__version__) < LooseVersion(min_version):\n",
      "c:\\ProgramData\\Anaconda3\\envs\\e16-4yp-Enhancing-Video-Game-Experience-With-Brain-Computer-Interface\\lib\\site-packages\\mne\\utils\\check.py:92: DeprecationWarning: distutils Version classes are deprecated. Use packaging.version instead.\n",
      "  LooseVersion(library.__version__) < LooseVersion(min_version):\n",
      "c:\\ProgramData\\Anaconda3\\envs\\e16-4yp-Enhancing-Video-Game-Experience-With-Brain-Computer-Interface\\lib\\site-packages\\mne\\utils\\check.py:92: DeprecationWarning: distutils Version classes are deprecated. Use packaging.version instead.\n",
      "  LooseVersion(library.__version__) < LooseVersion(min_version):\n",
      "c:\\ProgramData\\Anaconda3\\envs\\e16-4yp-Enhancing-Video-Game-Experience-With-Brain-Computer-Interface\\lib\\site-packages\\mne\\utils\\check.py:92: DeprecationWarning: distutils Version classes are deprecated. Use packaging.version instead.\n",
      "  LooseVersion(library.__version__) < LooseVersion(min_version):\n",
      "c:\\ProgramData\\Anaconda3\\envs\\e16-4yp-Enhancing-Video-Game-Experience-With-Brain-Computer-Interface\\lib\\site-packages\\mne\\utils\\check.py:92: DeprecationWarning: distutils Version classes are deprecated. Use packaging.version instead.\n",
      "  LooseVersion(library.__version__) < LooseVersion(min_version):\n",
      "c:\\ProgramData\\Anaconda3\\envs\\e16-4yp-Enhancing-Video-Game-Experience-With-Brain-Computer-Interface\\lib\\site-packages\\mne\\utils\\check.py:92: DeprecationWarning: distutils Version classes are deprecated. Use packaging.version instead.\n",
      "  LooseVersion(library.__version__) < LooseVersion(min_version):\n",
      "c:\\ProgramData\\Anaconda3\\envs\\e16-4yp-Enhancing-Video-Game-Experience-With-Brain-Computer-Interface\\lib\\site-packages\\mne\\utils\\check.py:92: DeprecationWarning: distutils Version classes are deprecated. Use packaging.version instead.\n",
      "  LooseVersion(library.__version__) < LooseVersion(min_version):\n",
      "c:\\ProgramData\\Anaconda3\\envs\\e16-4yp-Enhancing-Video-Game-Experience-With-Brain-Computer-Interface\\lib\\site-packages\\mne\\utils\\check.py:92: DeprecationWarning: distutils Version classes are deprecated. Use packaging.version instead.\n",
      "  LooseVersion(library.__version__) < LooseVersion(min_version):\n",
      "c:\\ProgramData\\Anaconda3\\envs\\e16-4yp-Enhancing-Video-Game-Experience-With-Brain-Computer-Interface\\lib\\site-packages\\mne\\utils\\check.py:92: DeprecationWarning: distutils Version classes are deprecated. Use packaging.version instead.\n",
      "  LooseVersion(library.__version__) < LooseVersion(min_version):\n",
      "c:\\ProgramData\\Anaconda3\\envs\\e16-4yp-Enhancing-Video-Game-Experience-With-Brain-Computer-Interface\\lib\\site-packages\\mne\\utils\\check.py:92: DeprecationWarning: distutils Version classes are deprecated. Use packaging.version instead.\n",
      "  LooseVersion(library.__version__) < LooseVersion(min_version):\n",
      "c:\\ProgramData\\Anaconda3\\envs\\e16-4yp-Enhancing-Video-Game-Experience-With-Brain-Computer-Interface\\lib\\site-packages\\mne\\utils\\check.py:92: DeprecationWarning: distutils Version classes are deprecated. Use packaging.version instead.\n",
      "  LooseVersion(library.__version__) < LooseVersion(min_version):\n",
      "c:\\ProgramData\\Anaconda3\\envs\\e16-4yp-Enhancing-Video-Game-Experience-With-Brain-Computer-Interface\\lib\\site-packages\\mne\\utils\\check.py:92: DeprecationWarning: distutils Version classes are deprecated. Use packaging.version instead.\n",
      "  LooseVersion(library.__version__) < LooseVersion(min_version):\n",
      "c:\\ProgramData\\Anaconda3\\envs\\e16-4yp-Enhancing-Video-Game-Experience-With-Brain-Computer-Interface\\lib\\site-packages\\mne\\utils\\check.py:92: DeprecationWarning: distutils Version classes are deprecated. Use packaging.version instead.\n",
      "  LooseVersion(library.__version__) < LooseVersion(min_version):\n",
      "c:\\ProgramData\\Anaconda3\\envs\\e16-4yp-Enhancing-Video-Game-Experience-With-Brain-Computer-Interface\\lib\\site-packages\\mne\\utils\\check.py:92: DeprecationWarning: distutils Version classes are deprecated. Use packaging.version instead.\n",
      "  LooseVersion(library.__version__) < LooseVersion(min_version):\n",
      "c:\\ProgramData\\Anaconda3\\envs\\e16-4yp-Enhancing-Video-Game-Experience-With-Brain-Computer-Interface\\lib\\site-packages\\mne\\utils\\check.py:92: DeprecationWarning: distutils Version classes are deprecated. Use packaging.version instead.\n",
      "  LooseVersion(library.__version__) < LooseVersion(min_version):\n",
      "c:\\ProgramData\\Anaconda3\\envs\\e16-4yp-Enhancing-Video-Game-Experience-With-Brain-Computer-Interface\\lib\\site-packages\\mne\\utils\\check.py:92: DeprecationWarning: distutils Version classes are deprecated. Use packaging.version instead.\n",
      "  LooseVersion(library.__version__) < LooseVersion(min_version):\n",
      "c:\\ProgramData\\Anaconda3\\envs\\e16-4yp-Enhancing-Video-Game-Experience-With-Brain-Computer-Interface\\lib\\site-packages\\mne\\utils\\check.py:92: DeprecationWarning: distutils Version classes are deprecated. Use packaging.version instead.\n",
      "  LooseVersion(library.__version__) < LooseVersion(min_version):\n",
      "c:\\ProgramData\\Anaconda3\\envs\\e16-4yp-Enhancing-Video-Game-Experience-With-Brain-Computer-Interface\\lib\\site-packages\\mne\\utils\\check.py:92: DeprecationWarning: distutils Version classes are deprecated. Use packaging.version instead.\n",
      "  LooseVersion(library.__version__) < LooseVersion(min_version):\n",
      "c:\\ProgramData\\Anaconda3\\envs\\e16-4yp-Enhancing-Video-Game-Experience-With-Brain-Computer-Interface\\lib\\site-packages\\mne\\utils\\check.py:92: DeprecationWarning: distutils Version classes are deprecated. Use packaging.version instead.\n",
      "  LooseVersion(library.__version__) < LooseVersion(min_version):\n",
      "c:\\ProgramData\\Anaconda3\\envs\\e16-4yp-Enhancing-Video-Game-Experience-With-Brain-Computer-Interface\\lib\\site-packages\\mne\\utils\\check.py:92: DeprecationWarning: distutils Version classes are deprecated. Use packaging.version instead.\n",
      "  LooseVersion(library.__version__) < LooseVersion(min_version):\n",
      "c:\\ProgramData\\Anaconda3\\envs\\e16-4yp-Enhancing-Video-Game-Experience-With-Brain-Computer-Interface\\lib\\site-packages\\mne\\utils\\check.py:92: DeprecationWarning: distutils Version classes are deprecated. Use packaging.version instead.\n",
      "  LooseVersion(library.__version__) < LooseVersion(min_version):\n",
      "c:\\ProgramData\\Anaconda3\\envs\\e16-4yp-Enhancing-Video-Game-Experience-With-Brain-Computer-Interface\\lib\\site-packages\\mne\\utils\\check.py:92: DeprecationWarning: distutils Version classes are deprecated. Use packaging.version instead.\n",
      "  LooseVersion(library.__version__) < LooseVersion(min_version):\n",
      "c:\\ProgramData\\Anaconda3\\envs\\e16-4yp-Enhancing-Video-Game-Experience-With-Brain-Computer-Interface\\lib\\site-packages\\mne\\utils\\check.py:92: DeprecationWarning: distutils Version classes are deprecated. Use packaging.version instead.\n",
      "  LooseVersion(library.__version__) < LooseVersion(min_version):\n",
      "c:\\ProgramData\\Anaconda3\\envs\\e16-4yp-Enhancing-Video-Game-Experience-With-Brain-Computer-Interface\\lib\\site-packages\\mne\\utils\\check.py:92: DeprecationWarning: distutils Version classes are deprecated. Use packaging.version instead.\n",
      "  LooseVersion(library.__version__) < LooseVersion(min_version):\n",
      "c:\\ProgramData\\Anaconda3\\envs\\e16-4yp-Enhancing-Video-Game-Experience-With-Brain-Computer-Interface\\lib\\site-packages\\mne\\utils\\check.py:92: DeprecationWarning: distutils Version classes are deprecated. Use packaging.version instead.\n",
      "  LooseVersion(library.__version__) < LooseVersion(min_version):\n"
     ]
    },
    {
     "name": "stdout",
     "output_type": "stream",
     "text": [
      "Channels marked as bad: none\n"
     ]
    },
    {
     "data": {
      "text/plain": [
       "[<MNEFigure size 975x967 with 20 Axes>]"
      ]
     },
     "execution_count": 15,
     "metadata": {},
     "output_type": "execute_result"
    }
   ],
   "source": [
    "ica.plot_components(outlines=\"skirt\")"
   ]
  },
  {
   "cell_type": "code",
   "execution_count": 16,
   "metadata": {},
   "outputs": [
    {
     "name": "stdout",
     "output_type": "stream",
     "text": [
      "Trigger channel has a non-zero initial value of 65536 (consider using initial_event=True to detect this event)\n",
      "Removing orphaned offset at the beginning of the file.\n",
      "1112 events found\n",
      "Event IDs: [11 12 13 14 15 16 17 21 22 23 31 32 33 34 42 44 45 46 51 61 62 63 64]\n"
     ]
    }
   ],
   "source": [
    "events = mne.find_events(raw)"
   ]
  },
  {
   "cell_type": "code",
   "execution_count": 17,
   "metadata": {},
   "outputs": [
    {
     "data": {
      "text/plain": [
       "array([[   6283,       0,      11],\n",
       "       [  16591,       0,      13],\n",
       "       [  31976,       0,      14],\n",
       "       ...,\n",
       "       [1829105,       0,      46],\n",
       "       [1829126,       0,      16],\n",
       "       [1829156,       0,      12]], dtype=int64)"
      ]
     },
     "execution_count": 17,
     "metadata": {},
     "output_type": "execute_result"
    }
   ],
   "source": [
    "events"
   ]
  },
  {
   "cell_type": "code",
   "execution_count": 18,
   "metadata": {},
   "outputs": [
    {
     "name": "stderr",
     "output_type": "stream",
     "text": [
      "C:\\Users\\Acer\\AppData\\Local\\Temp\\ipykernel_26200\\4186682001.py:1: RuntimeWarning: More events than default colors available. You should pass a list of unique colors.\n",
      "  mne.viz.plot_events(events);\n"
     ]
    }
   ],
   "source": [
    "mne.viz.plot_events(events);"
   ]
  },
  {
   "cell_type": "code",
   "execution_count": 19,
   "metadata": {},
   "outputs": [
    {
     "name": "stdout",
     "output_type": "stream",
     "text": [
      "Not setting metadata\n",
      "Not setting metadata\n",
      "1112 matching events found\n",
      "Setting baseline interval to [-0.2001953125, 0.0] sec\n",
      "Applying baseline correction (mode: mean)\n",
      "0 projection items activated\n",
      "Loading data for 1112 events and 718 original time points ...\n",
      "0 bad epochs dropped\n",
      "Loading data for 134 events and 718 original time points ...\n",
      "Loading data for 20 events and 718 original time points ...\n"
     ]
    },
    {
     "data": {
      "text/plain": [
       "<MNEBrowseFigure size 1920x1009 with 4 Axes>"
      ]
     },
     "execution_count": 19,
     "metadata": {},
     "output_type": "execute_result"
    }
   ],
   "source": [
    "epochs = mne.Epochs(raw, events)\n",
    "epochs.plot()"
   ]
  },
  {
   "cell_type": "code",
   "execution_count": 23,
   "metadata": {},
   "outputs": [
    {
     "name": "stdout",
     "output_type": "stream",
     "text": [
      "\u001B[1;31mType:\u001B[0m        RawEDF\n",
      "\u001B[1;31mString form:\u001B[0m <RawEDF | sub-01_ses-01_task-innerspeech_eeg.bdf, 129 x 1875968 (1832.0 s), ~1.80 GB, data loaded>\n",
      "\u001B[1;31mLength:\u001B[0m      1875968\n",
      "\u001B[1;31mFile:\u001B[0m        c:\\programdata\\anaconda3\\envs\\e16-4yp-enhancing-video-game-experience-with-brain-computer-interface\\lib\\site-packages\\mne\\io\\edf\\edf.py\n",
      "\u001B[1;31mDocstring:\u001B[0m  \n",
      "Raw object from EDF, EDF+ or BDF file.\n",
      "\n",
      "Parameters\n",
      "----------\n",
      "input_fname : str\n",
      "    Path to the EDF, EDF+ or BDF file.\n",
      "eog : list or tuple\n",
      "    Names of channels or list of indices that should be designated EOG\n",
      "    channels. Values should correspond to the electrodes in the file.\n",
      "    Default is None.\n",
      "misc : list or tuple\n",
      "    Names of channels or list of indices that should be designated MISC\n",
      "    channels. Values should correspond to the electrodes in the file.\n",
      "    Default is None.\n",
      "stim_channel : 'auto' | str | list of str | int | list of int\n",
      "    Defaults to 'auto', which means that channels named 'status' or\n",
      "    'trigger' (case insensitive) are set to STIM. If str (or list of str),\n",
      "    all channels matching the name(s) are set to STIM. If int (or list of\n",
      "    ints), the channels corresponding to the indices are set to STIM.\n",
      "\n",
      "    .. warning:: 0.18 does not allow for stim channel synthesis from TAL\n",
      "                 channels called 'EDF Annotations' or 'BDF Annotations'\n",
      "                 anymore. Instead, TAL channels are parsed and extracted\n",
      "                 annotations are stored in raw.annotations. Use\n",
      "                 :func:`mne.events_from_annotations` to obtain events from\n",
      "                 these annotations.\n",
      "\n",
      "exclude : list of str\n",
      "    Channel names to exclude. This can help when reading data with\n",
      "    different sampling rates to avoid unnecessary resampling.\n",
      "\n",
      "preload : bool or str (default False)\n",
      "    Preload data into memory for data manipulation and faster indexing.\n",
      "    If True, the data will be preloaded into memory (fast, requires\n",
      "    large amount of memory). If preload is a string, preload is the\n",
      "    file name of a memory-mapped file which is used to store the data\n",
      "    on the hard drive (slower, requires less memory).\n",
      "\n",
      "verbose : bool | str | int | None\n",
      "    Control verbosity of the logging output. If ``None``, use the default\n",
      "    verbosity level. See the :ref:`logging documentation <tut-logging>` and\n",
      "    :func:`mne.verbose` for details. Should only be passed as a keyword\n",
      "    argument.\n",
      "\n",
      "See Also\n",
      "--------\n",
      "mne.io.Raw : Documentation of attributes and methods.\n",
      "mne.io.read_raw_edf : Recommended way to read EDF/EDF+ files.\n",
      "mne.io.read_raw_bdf : Recommended way to read BDF files.\n",
      "\n",
      "Notes\n",
      "-----\n",
      "Biosemi devices trigger codes are encoded in 16-bit format, whereas system\n",
      "codes (CMS in/out-of range, battery low, etc.) are coded in bits 16-23 of\n",
      "the status channel (see http://www.biosemi.com/faq/trigger_signals.htm).\n",
      "To retrieve correct event values (bits 1-16), one could do:\n",
      "\n",
      "    >>> events = mne.find_events(...)  # doctest:+SKIP\n",
      "    >>> events[:, 2] &= (2**16 - 1)  # doctest:+SKIP\n",
      "\n",
      "The above operation can be carried out directly in :func:`mne.find_events`\n",
      "using the ``mask`` and ``mask_type`` parameters (see\n",
      ":func:`mne.find_events` for more details).\n",
      "\n",
      "It is also possible to retrieve system codes, but no particular effort has\n",
      "been made to decode these in MNE. In case it is necessary, for instance to\n",
      "check the CMS bit, the following operation can be carried out:\n",
      "\n",
      "    >>> cms_bit = 20  # doctest:+SKIP\n",
      "    >>> cms_high = (events[:, 2] & (1 << cms_bit)) != 0  # doctest:+SKIP\n",
      "\n",
      "It is worth noting that in some special cases, it may be necessary to shift\n",
      "event values in order to retrieve correct event triggers. This depends on\n",
      "the triggering device used to perform the synchronization. For instance, in\n",
      "some files events need to be shifted by 8 bits:\n",
      "\n",
      "    >>> events[:, 2] >>= 8  # doctest:+SKIP\n",
      "\n",
      "TAL channels called 'EDF Annotations' or 'BDF Annotations' are parsed and\n",
      "extracted annotations are stored in raw.annotations. Use\n",
      ":func:`mne.events_from_annotations` to obtain events from these\n",
      "annotations.\n",
      "\n",
      "If channels named 'status' or 'trigger' are present, they are considered as\n",
      "STIM channels by default. Use func:`mne.find_events` to parse events\n",
      "encoded in such analog stim channels.\n"
     ]
    }
   ],
   "source": [
    "raw?\n"
   ]
  }
 ],
 "metadata": {
  "kernelspec": {
   "display_name": "Python 3.9.12 ('e16-4yp-Enhancing-Video-Game-Experience-With-Brain-Computer-Interface')",
   "language": "python",
   "name": "python3"
  },
  "language_info": {
   "codemirror_mode": {
    "name": "ipython",
    "version": 3
   },
   "file_extension": ".py",
   "mimetype": "text/x-python",
   "name": "python",
   "nbconvert_exporter": "python",
   "pygments_lexer": "ipython3",
   "version": "3.9.12"
  },
  "vscode": {
   "interpreter": {
    "hash": "d03f13ddb97eea5791d240fab36bf3c811ff7a2c281a71007769d55b158b38bd"
   }
  }
 },
 "nbformat": 4,
 "nbformat_minor": 1
}